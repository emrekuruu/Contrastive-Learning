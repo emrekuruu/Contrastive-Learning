{
 "cells": [
  {
   "cell_type": "code",
   "execution_count": null,
   "metadata": {},
   "outputs": [],
   "source": [
    "import torch\n",
    "from torch import nn\n",
    "from torch.utils.data import DataLoader, TensorDataset\n",
    "\n",
    "from sklearn.model_selection import train_test_split\n",
    "from sklearn.linear_model import LogisticRegression\n",
    "import pandas as pd"
   ]
  },
  {
   "cell_type": "markdown",
   "metadata": {},
   "source": [
    "## Prepare Dataset"
   ]
  },
  {
   "cell_type": "code",
   "execution_count": null,
   "metadata": {},
   "outputs": [],
   "source": [
    "data = pd.read_excel(\"data/synthetic_dataset.xlsx\", index_col=0)\n",
    "data_tensor = torch.tensor(data.values, dtype=torch.float32)\n",
    "\n",
    "\n",
    "train_tensor, val_tensor = train_test_split(data_tensor, test_size=0.2, random_state=42)\n",
    "\n",
    "train_dataset = TensorDataset(train_tensor)\n",
    "val_dataset = TensorDataset(val_tensor)\n",
    "\n",
    "train_dataloader = DataLoader(train_dataset, batch_size=128, shuffle=True)\n",
    "val_dataloader = DataLoader(val_dataset, batch_size=128, shuffle=False)"
   ]
  },
  {
   "cell_type": "markdown",
   "metadata": {},
   "source": [
    "## AutoEncoder"
   ]
  },
  {
   "cell_type": "code",
   "execution_count": 94,
   "metadata": {},
   "outputs": [],
   "source": [
    "class EnhancedLR(nn.Module):\n",
    "    \n",
    "    def __init__(self, input_dim):\n",
    "        super(EnhancedLR , self).__init__()\n",
    "        self.linear = nn.Linear(input_dim, 1)\n",
    "\n",
    "    def forward(self, x):\n",
    "        x = self.linear(x)\n",
    "        return torch.sigmoid(x)\n",
    "\n",
    "    def predict_proba(self, x):\n",
    "        with torch.no_grad():\n",
    "            output = self.forward(x)\n",
    "            return torch.cat((1 - output, output), dim=1).numpy()\n"
   ]
  },
  {
   "cell_type": "code",
   "execution_count": 95,
   "metadata": {},
   "outputs": [],
   "source": [
    "class Autoencoder(nn.Module):\n",
    "    def __init__(self, input_dim, embedding_dim, reconstruction_loss, classification_loss, dropout_rate = 0.15):\n",
    "        super(Autoencoder, self).__init__()\n",
    "\n",
    "        self.input_dim = input_dim\n",
    "        self.reconstruction_loss = reconstruction_loss\n",
    "        self.classification_loss = classification_loss\n",
    "        self.device = torch.device('cuda' if torch.cuda.is_available() else 'cpu')\n",
    "\n",
    "        self.encoder = nn.Sequential(\n",
    "                nn.Linear(input_dim, 1024),\n",
    "                nn.ReLU(),\n",
    "                nn.Dropout(dropout_rate),\n",
    "                nn.Linear(1024, embedding_dim),\n",
    "            )\n",
    "\n",
    "        self.decoder = nn.Sequential(\n",
    "                nn.Linear(embedding_dim, 1024),\n",
    "                nn.ReLU(),\n",
    "                nn.Linear(1024, input_dim),\n",
    "                nn.Sigmoid(),\n",
    "            )\n",
    "    \n",
    "\n",
    "        self.classifier = EnhancedLR(embedding_dim)\n",
    "\n",
    "    def forward(self, x):\n",
    "        x = self.encoder(x)\n",
    "        x = self.decoder(x)\n",
    "        return x\n",
    "    \n",
    "    def predict(self, x):\n",
    "        x = self.encoder(x)\n",
    "        prediction = self.classifier(x)\n",
    "        return prediction\n",
    "    \n",
    "    def predict_proba(self, x):\n",
    "        x = self.encoder(x)\n",
    "        predict_proba = self.classifier.predict_proba(x)\n",
    "        return predict_proba\n",
    "    \n",
    "    def unsupervised_train(self, num_epochs, train_dataloader, val_dataloader, optimizer):\n",
    "\n",
    "        for epoch in range(num_epochs):\n",
    "            self.train()\n",
    "            total_train_loss = 0\n",
    "            \n",
    "            # Training phase\n",
    "            for batch in train_dataloader:\n",
    "                optimizer.zero_grad()\n",
    "                inputs = batch[0].to(self.device)\n",
    "                outputs = self(inputs)\n",
    "                loss = self.reconstruction_loss(outputs, inputs)\n",
    "                loss.backward()\n",
    "                optimizer.step()\n",
    "                total_train_loss += loss.item()\n",
    "            \n",
    "            # Validation phase\n",
    "            self.eval()\n",
    "            total_val_loss = 0\n",
    "            with torch.no_grad():\n",
    "                for batch in val_dataloader:\n",
    "                    inputs = batch[0].to(self.device)\n",
    "                    outputs = self(inputs)\n",
    "                    val_loss = self.reconstruction_loss(outputs, inputs)\n",
    "                    total_val_loss += val_loss.item()\n",
    "\n",
    "            avg_train_loss = total_train_loss / len(train_dataloader)\n",
    "            avg_val_loss = total_val_loss / len(val_dataloader)\n",
    "            \n",
    "            print(f'Epoch: {epoch+1}, Training Loss: {avg_train_loss}, Validation Loss: {avg_val_loss}')\n",
    "\n",
    "    def fit(self, num_epochs, train_dataloader, optimizer):\n",
    "        \n",
    "        for epoch in range(num_epochs):\n",
    "            self.train()\n",
    "            total_train_loss = 0\n",
    "            \n",
    "            # Training phase\n",
    "            for inputs, labels in train_dataloader:\n",
    "\n",
    "                inputs, labels = inputs.to(self.device), labels.to(self.device)\n",
    "                optimizer.zero_grad()\n",
    "                outputs = self(inputs)\n",
    "\n",
    "                # Fine-tune the embeddings\n",
    "                reconstruction_loss = self.reconstruction_loss(outputs, inputs)\n",
    "\n",
    "                # Train the classifier \n",
    "                predictions = self.predict(inputs)\n",
    "                classification_loss = self.classification_loss(predictions, labels)\n",
    "\n",
    "                # Optimize Both \n",
    "                loss = reconstruction_loss + classification_loss\n",
    "                \n",
    "                loss.backward()\n",
    "                optimizer.step()\n",
    "                total_train_loss += loss.item()\n",
    "\n",
    "            avg_train_loss = total_train_loss / len(train_dataloader)\n",
    "            \n",
    "            print(f'Epoch: {epoch+1}, Training Loss: {avg_train_loss}')"
   ]
  },
  {
   "cell_type": "code",
   "execution_count": 97,
   "metadata": {},
   "outputs": [],
   "source": [
    "input_dim = data.shape[1]\n",
    "embedding_dim = 64\n",
    "reconstruction_loss = nn.BCELoss()\n",
    "classification_loss = nn.BCELoss()\n",
    "\n",
    "model = Autoencoder(input_dim, embedding_dim, reconstruction_loss, classification_loss)\n",
    "optimizer = torch.optim.Adam(model.parameters(), lr=0.001)"
   ]
  },
  {
   "cell_type": "code",
   "execution_count": 98,
   "metadata": {},
   "outputs": [
    {
     "name": "stdout",
     "output_type": "stream",
     "text": [
      "Epoch: 1, Training Loss: 0.07264308820695856, Validation Loss: 0.03219642869512969\n",
      "Epoch: 2, Training Loss: 0.019506159070750168, Validation Loss: 0.010981921640592158\n",
      "Epoch: 3, Training Loss: 0.007918536684564024, Validation Loss: 0.005975587797616053\n",
      "Epoch: 4, Training Loss: 0.004391673621915143, Validation Loss: 0.00415471322843036\n",
      "Epoch: 5, Training Loss: 0.002817769317648978, Validation Loss: 0.0032134205327206933\n",
      "Epoch: 6, Training Loss: 0.0019246669204940044, Validation Loss: 0.002817931416265051\n",
      "Epoch: 7, Training Loss: 0.0014152439625978934, Validation Loss: 0.0025384919803350344\n",
      "Epoch: 8, Training Loss: 0.0010680316708923917, Validation Loss: 0.0023601396583926375\n",
      "Epoch: 9, Training Loss: 0.0008591706707926282, Validation Loss: 0.002249100070378376\n",
      "Epoch: 10, Training Loss: 0.0007006350939520194, Validation Loss: 0.0023757651610590447\n"
     ]
    }
   ],
   "source": [
    "model.unsupervised_train(10, train_dataloader, val_dataloader, optimizer)"
   ]
  },
  {
   "cell_type": "code",
   "execution_count": 99,
   "metadata": {},
   "outputs": [],
   "source": [
    "torch.save(model,\"auto_encoder.pkl\")"
   ]
  },
  {
   "cell_type": "code",
   "execution_count": 100,
   "metadata": {},
   "outputs": [
    {
     "data": {
      "text/plain": [
       "array([[0.861526  , 0.13847397]], dtype=float32)"
      ]
     },
     "execution_count": 100,
     "metadata": {},
     "output_type": "execute_result"
    }
   ],
   "source": [
    "input_tensor = train_tensor[0].unsqueeze(0)  # Add a batch dimension\n",
    "model.predict_proba(input_tensor)"
   ]
  },
  {
   "cell_type": "code",
   "execution_count": 101,
   "metadata": {},
   "outputs": [
    {
     "data": {
      "text/plain": [
       "Autoencoder(\n",
       "  (reconstruction_loss): BCELoss()\n",
       "  (classification_loss): BCELoss()\n",
       "  (encoder): Sequential(\n",
       "    (0): Linear(in_features=343, out_features=1024, bias=True)\n",
       "    (1): ReLU()\n",
       "    (2): Dropout(p=0.15, inplace=False)\n",
       "    (3): Linear(in_features=1024, out_features=64, bias=True)\n",
       "  )\n",
       "  (decoder): Sequential(\n",
       "    (0): Linear(in_features=64, out_features=1024, bias=True)\n",
       "    (1): ReLU()\n",
       "    (2): Linear(in_features=1024, out_features=343, bias=True)\n",
       "    (3): Sigmoid()\n",
       "  )\n",
       "  (classifier): EnhancedLR(\n",
       "    (linear): Linear(in_features=64, out_features=1, bias=True)\n",
       "  )\n",
       ")"
      ]
     },
     "execution_count": 101,
     "metadata": {},
     "output_type": "execute_result"
    }
   ],
   "source": [
    "model.train()"
   ]
  },
  {
   "cell_type": "markdown",
   "metadata": {},
   "source": [
    "## Evaluate"
   ]
  },
  {
   "cell_type": "code",
   "execution_count": null,
   "metadata": {},
   "outputs": [],
   "source": [
    "model = torch.load(\"auto_encoder.pkl\")"
   ]
  },
  {
   "cell_type": "code",
   "execution_count": null,
   "metadata": {},
   "outputs": [],
   "source": [
    "model.eval()"
   ]
  },
  {
   "cell_type": "code",
   "execution_count": null,
   "metadata": {},
   "outputs": [],
   "source": [
    "embeddings = model(data_tensor.float()).detach().numpy()"
   ]
  },
  {
   "cell_type": "code",
   "execution_count": null,
   "metadata": {},
   "outputs": [],
   "source": [
    "from sklearn.manifold import TSNE\n",
    "import matplotlib.pyplot as plt\n",
    "\n",
    "embeddings_2d = TSNE(n_components=2, random_state=0).fit_transform(embeddings)\n",
    "\n",
    "plt.figure(figsize=(10, 8))\n",
    "plt.scatter(embeddings_2d[:, 0], embeddings_2d[:, 1], cmap='viridis', alpha=0.5)\n",
    "plt.title('t-SNE plot of the embeddings')\n",
    "plt.xlabel('Component 1')\n",
    "plt.ylabel('Component 2')\n",
    "plt.show()"
   ]
  },
  {
   "cell_type": "code",
   "execution_count": null,
   "metadata": {},
   "outputs": [],
   "source": [
    "from finch import FINCH\n",
    "import pandas as pd\n",
    "from sklearn.metrics import silhouette_score"
   ]
  },
  {
   "cell_type": "code",
   "execution_count": null,
   "metadata": {},
   "outputs": [],
   "source": [
    "c, num_clust, req_c = FINCH(embeddings)"
   ]
  },
  {
   "cell_type": "code",
   "execution_count": null,
   "metadata": {},
   "outputs": [],
   "source": [
    "for i in range(0,6):\n",
    "    silhouette_avg = silhouette_score(embeddings, pd.DataFrame(c)[i])\n",
    "    print(f\"Silhouette Score: {silhouette_avg}\")"
   ]
  }
 ],
 "metadata": {
  "kernelspec": {
   "display_name": "env",
   "language": "python",
   "name": "python3"
  },
  "language_info": {
   "codemirror_mode": {
    "name": "ipython",
    "version": 3
   },
   "file_extension": ".py",
   "mimetype": "text/x-python",
   "name": "python",
   "nbconvert_exporter": "python",
   "pygments_lexer": "ipython3",
   "version": "3.11.5"
  },
  "orig_nbformat": 4
 },
 "nbformat": 4,
 "nbformat_minor": 2
}
