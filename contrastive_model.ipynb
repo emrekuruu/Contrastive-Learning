{
 "cells": [
  {
   "cell_type": "code",
   "execution_count": null,
   "metadata": {},
   "outputs": [],
   "source": [
    "import torch \n",
    "import torch.nn as nn\n",
    "from pytorch_metric_learning.losses import NTXentLoss\n",
    "from torch.utils.data import Dataset, DataLoader\n",
    "import random\n",
    "import pandas as pd"
   ]
  },
  {
   "cell_type": "code",
   "execution_count": null,
   "metadata": {},
   "outputs": [],
   "source": [
    "class ContrastiveLearning(torch.nn.Module):\n",
    "    def __init__(self, input_dim, embedding_dim, projection_dim, dropout_rate=0.15):\n",
    "        super(ContrastiveLearning, self).__init__()\n",
    "\n",
    "        self.encoder = nn.Sequential(\n",
    "                nn.Linear(input_dim, 1028),\n",
    "                nn.BatchNorm1d(1028),\n",
    "                nn.ReLU(),\n",
    "                nn.Dropout(dropout_rate),\n",
    "                nn.Linear(1028, 512),\n",
    "                nn.BatchNorm1d(512),\n",
    "                nn.ReLU(),\n",
    "                nn.Dropout(dropout_rate),\n",
    "                nn.Linear(512, embedding_dim),\n",
    "            )\n",
    "\n",
    "        self.projector = nn.Sequential(\n",
    "                nn.Linear(embedding_dim, 256),\n",
    "                nn.BatchNorm1d(256),\n",
    "                nn.ReLU(),\n",
    "                nn.Dropout(dropout_rate),\n",
    "                nn.Linear(256, projection_dim),\n",
    "            )\n",
    "\n",
    "        \n",
    "    def forward(self, x):\n",
    "        embedding = self.encoder(x)\n",
    "        projection = self.projector(embedding)\n",
    "        return projection"
   ]
  },
  {
   "cell_type": "code",
   "execution_count": null,
   "metadata": {},
   "outputs": [],
   "source": [
    "criterion = NTXentLoss(temperature=0.10)"
   ]
  },
  {
   "cell_type": "code",
   "execution_count": null,
   "metadata": {},
   "outputs": [],
   "source": [
    "import pandas as pd\n",
    "data = pd.read_excel(\"data/synthetic_dataset.xlsx\", index_col=0)\n",
    "cluster_labels = pd.read_excel(\"data/clusters.xlsx\", index_col=0)\n",
    "cluster_labels.index = data.index\n",
    "cluster_labels = cluster_labels[4]"
   ]
  },
  {
   "cell_type": "code",
   "execution_count": null,
   "metadata": {},
   "outputs": [],
   "source": [
    "data"
   ]
  },
  {
   "cell_type": "code",
   "execution_count": null,
   "metadata": {},
   "outputs": [],
   "source": [
    "cluster_labels"
   ]
  },
  {
   "cell_type": "code",
   "execution_count": null,
   "metadata": {},
   "outputs": [],
   "source": [
    "device = torch.device('cuda' if torch.cuda.is_available() else 'cpu')\n",
    "\n",
    "input_dim = data.shape[1]\n",
    "embedding_dim = 32\n",
    "projection_dim = 8\n",
    "\n",
    "model = ContrastiveLearning(input_dim, embedding_dim, projection_dim).to(device)\n",
    "optimizer = torch.optim.Adam(model.parameters(), lr=0.001)"
   ]
  },
  {
   "cell_type": "code",
   "execution_count": null,
   "metadata": {},
   "outputs": [],
   "source": [
    "class ClusterContrastiveDataset(Dataset):\n",
    "    def __init__(self, data, cluster_labels):\n",
    "        self.data = data\n",
    "        self.cluster_labels = cluster_labels\n",
    "\n",
    "    def __len__(self):\n",
    "        return len(self.data)\n",
    "\n",
    "    def __getitem__(self, idx):\n",
    "        item = self.data.iloc[idx]\n",
    "        label = self.cluster_labels.iloc[idx]\n",
    "        positive_indices = [i for i, same_label in enumerate(self.cluster_labels) if same_label == label and i != idx]\n",
    "        positive_idx = random.choice(positive_indices)\n",
    "        positive_item = self.data.iloc[positive_idx]\n",
    "\n",
    "        item_tensor = torch.tensor(item, dtype=torch.float32)\n",
    "        positive_item_tensor = torch.tensor(positive_item, dtype=torch.float32)\n",
    "\n",
    "\n",
    "        return item_tensor, positive_item_tensor"
   ]
  },
  {
   "cell_type": "code",
   "execution_count": null,
   "metadata": {},
   "outputs": [],
   "source": [
    "dataset = ClusterContrastiveDataset(data=data, cluster_labels=cluster_labels)\n",
    "\n",
    "dataloader = DataLoader(dataset, batch_size=128, shuffle=True, num_workers=0)"
   ]
  },
  {
   "cell_type": "code",
   "execution_count": null,
   "metadata": {},
   "outputs": [],
   "source": [
    "def train(num_epochs, log_interval): \n",
    "\n",
    "   for epoch in range(num_epochs):\n",
    "        model.train()  \n",
    "        total_loss = 0\n",
    "\n",
    "        for batch_idx, (data_i, data_j) in enumerate(dataloader):\n",
    "\n",
    "            data_i, data_j = data_i.float().to(device), data_j.float().to(device)\n",
    "\n",
    "            optimizer.zero_grad()  \n",
    "\n",
    "            projections_i = model(data_i)\n",
    "            projections_j = model(data_j)\n",
    "\n",
    "            # Concatenate the projections: \n",
    "            # The positive pairs are adjacent to each other, and all others are considered negatives.\n",
    "            projections = torch.cat([projections_i, projections_j], dim=0)\n",
    "            \n",
    "            batch_size = projections_i.size(0)\n",
    "            labels = torch.arange(batch_size, dtype=torch.long).to(device)\n",
    "            labels = torch.cat((labels, labels), dim=0)  # Duplicate labels for both halves of concatenated data\n",
    "\n",
    "            # Calculate the contrastive loss\n",
    "            loss = criterion(projections, labels)\n",
    "            total_loss += loss.item()\n",
    "\n",
    "            loss.backward()\n",
    "            optimizer.step()\n",
    "\n",
    "            if batch_idx % log_interval == 0:\n",
    "                print(f'Epoch: {epoch}, Batch: {batch_idx}, Loss: {loss.item()}')"
   ]
  },
  {
   "cell_type": "code",
   "execution_count": 28,
   "metadata": {},
   "outputs": [
    {
     "name": "stderr",
     "output_type": "stream",
     "text": [
      "C:\\Users\\emrek\\AppData\\Local\\Temp\\ipykernel_9992\\652672158.py:16: FutureWarning: Series.__getitem__ treating keys as positions is deprecated. In a future version, integer keys will always be treated as labels (consistent with DataFrame behavior). To access a value by position, use `ser.iloc[pos]`\n",
      "  item_tensor = torch.tensor(item, dtype=torch.float32)\n",
      "C:\\Users\\emrek\\AppData\\Local\\Temp\\ipykernel_9992\\652672158.py:17: FutureWarning: Series.__getitem__ treating keys as positions is deprecated. In a future version, integer keys will always be treated as labels (consistent with DataFrame behavior). To access a value by position, use `ser.iloc[pos]`\n",
      "  positive_item_tensor = torch.tensor(positive_item, dtype=torch.float32)\n"
     ]
    },
    {
     "name": "stdout",
     "output_type": "stream",
     "text": [
      "Epoch: 0, Batch: 0, Loss: 5.986716270446777\n",
      "Epoch: 0, Batch: 50, Loss: 5.910808563232422\n",
      "Epoch: 0, Batch: 100, Loss: 5.982677936553955\n",
      "Epoch: 1, Batch: 0, Loss: 5.89607048034668\n",
      "Epoch: 1, Batch: 50, Loss: 5.902013778686523\n",
      "Epoch: 1, Batch: 100, Loss: 5.8834028244018555\n",
      "Epoch: 2, Batch: 0, Loss: 5.887598037719727\n",
      "Epoch: 2, Batch: 50, Loss: 5.884754180908203\n",
      "Epoch: 2, Batch: 100, Loss: 5.818312168121338\n",
      "Epoch: 3, Batch: 0, Loss: 5.809535503387451\n",
      "Epoch: 3, Batch: 50, Loss: 5.882041931152344\n",
      "Epoch: 3, Batch: 100, Loss: 5.790699005126953\n",
      "Epoch: 4, Batch: 0, Loss: 5.787371635437012\n",
      "Epoch: 4, Batch: 50, Loss: 5.788827419281006\n",
      "Epoch: 4, Batch: 100, Loss: 5.764877796173096\n",
      "Epoch: 5, Batch: 0, Loss: 5.725478172302246\n",
      "Epoch: 5, Batch: 50, Loss: 5.769021034240723\n",
      "Epoch: 5, Batch: 100, Loss: 5.770700931549072\n",
      "Epoch: 6, Batch: 0, Loss: 5.7204909324646\n",
      "Epoch: 6, Batch: 50, Loss: 5.753255844116211\n",
      "Epoch: 6, Batch: 100, Loss: 5.7410383224487305\n",
      "Epoch: 7, Batch: 0, Loss: 5.765988349914551\n",
      "Epoch: 7, Batch: 50, Loss: 5.799868106842041\n",
      "Epoch: 7, Batch: 100, Loss: 5.731020450592041\n",
      "Epoch: 8, Batch: 0, Loss: 5.694221496582031\n",
      "Epoch: 8, Batch: 50, Loss: 5.726141929626465\n",
      "Epoch: 8, Batch: 100, Loss: 5.750102519989014\n",
      "Epoch: 9, Batch: 0, Loss: 5.73409366607666\n",
      "Epoch: 9, Batch: 50, Loss: 5.729194164276123\n",
      "Epoch: 9, Batch: 100, Loss: 5.738267421722412\n",
      "Epoch: 10, Batch: 0, Loss: 5.674814701080322\n",
      "Epoch: 10, Batch: 50, Loss: 5.693967342376709\n",
      "Epoch: 10, Batch: 100, Loss: 5.729124069213867\n",
      "Epoch: 11, Batch: 0, Loss: 5.687915802001953\n",
      "Epoch: 11, Batch: 50, Loss: 5.703824043273926\n",
      "Epoch: 11, Batch: 100, Loss: 5.74371337890625\n",
      "Epoch: 12, Batch: 0, Loss: 5.697864055633545\n",
      "Epoch: 12, Batch: 50, Loss: 5.704373359680176\n",
      "Epoch: 12, Batch: 100, Loss: 5.704593181610107\n",
      "Epoch: 13, Batch: 0, Loss: 5.62083101272583\n",
      "Epoch: 13, Batch: 50, Loss: 5.702270030975342\n",
      "Epoch: 13, Batch: 100, Loss: 5.662710189819336\n",
      "Epoch: 14, Batch: 0, Loss: 5.614132404327393\n",
      "Epoch: 14, Batch: 50, Loss: 5.645963191986084\n",
      "Epoch: 14, Batch: 100, Loss: 5.681271076202393\n",
      "Epoch: 15, Batch: 0, Loss: 5.674348831176758\n",
      "Epoch: 15, Batch: 50, Loss: 5.693686485290527\n",
      "Epoch: 15, Batch: 100, Loss: 5.6668853759765625\n",
      "Epoch: 16, Batch: 0, Loss: 5.631926536560059\n",
      "Epoch: 16, Batch: 50, Loss: 5.657196998596191\n",
      "Epoch: 16, Batch: 100, Loss: 5.6572747230529785\n",
      "Epoch: 17, Batch: 0, Loss: 5.657532691955566\n",
      "Epoch: 17, Batch: 50, Loss: 5.640145778656006\n",
      "Epoch: 17, Batch: 100, Loss: 5.661113262176514\n",
      "Epoch: 18, Batch: 0, Loss: 5.61929988861084\n",
      "Epoch: 18, Batch: 50, Loss: 5.611215591430664\n",
      "Epoch: 18, Batch: 100, Loss: 5.616586685180664\n",
      "Epoch: 19, Batch: 0, Loss: 5.617292404174805\n",
      "Epoch: 19, Batch: 50, Loss: 5.6796956062316895\n",
      "Epoch: 19, Batch: 100, Loss: 5.650326728820801\n"
     ]
    }
   ],
   "source": [
    "train(20,50)"
   ]
  },
  {
   "cell_type": "code",
   "execution_count": 36,
   "metadata": {},
   "outputs": [],
   "source": [
    "torch.save(model, \"model.pkl\")"
   ]
  },
  {
   "cell_type": "code",
   "execution_count": null,
   "metadata": {},
   "outputs": [],
   "source": [
    "model = torch.load('model/model.pkl')"
   ]
  },
  {
   "cell_type": "code",
   "execution_count": 30,
   "metadata": {},
   "outputs": [
    {
     "data": {
      "text/plain": [
       "tensor([[ 3.4184, -1.8614,  2.0643, -4.8618, -0.4873,  6.1240,  2.3591, -3.5761,\n",
       "         -3.2758, -1.5182, -2.9935, -1.2115,  3.8389, -2.2434,  0.2898, -0.6267,\n",
       "          0.7240, -0.8349,  1.3940, -0.0859, -5.0045,  1.4073,  4.7017,  1.7282,\n",
       "         -1.7920,  1.2189,  1.1193,  0.0525, -1.0059, -2.3703,  0.3531, -0.2180]],\n",
       "       grad_fn=<AddmmBackward0>)"
      ]
     },
     "execution_count": 30,
     "metadata": {},
     "output_type": "execute_result"
    }
   ],
   "source": [
    "model.eval()\n",
    "\n",
    "# Convert the Pandas series to a tensor and add an extra batch dimension\n",
    "single_sample = torch.tensor(dataset.data.iloc[100].values).float().unsqueeze(0)\n",
    "\n",
    "model.encoder(single_sample)"
   ]
  },
  {
   "cell_type": "code",
   "execution_count": 31,
   "metadata": {},
   "outputs": [
    {
     "name": "stdout",
     "output_type": "stream",
     "text": [
      "Partition 0: 10259 clusters\n",
      "Partition 1: 1526 clusters\n",
      "Partition 2: 261 clusters\n",
      "Partition 3: 55 clusters\n",
      "Partition 4: 14 clusters\n",
      "Partition 5: 5 clusters\n"
     ]
    }
   ],
   "source": [
    "from finch import FINCH\n",
    "\n",
    "embeddings = model.encoder(torch.tensor(dataset.data.values).float()).detach()\n",
    "\n",
    "if embeddings.is_cuda:\n",
    "    embeddings = embeddings.cpu()\n",
    "\n",
    "embeddings_np = embeddings.numpy()\n",
    "\n",
    "c, num_clust, req_c = FINCH(embeddings_np)"
   ]
  },
  {
   "cell_type": "code",
   "execution_count": 32,
   "metadata": {},
   "outputs": [],
   "source": [
    "new_clusters =  pd.DataFrame(c)[5].values"
   ]
  },
  {
   "cell_type": "code",
   "execution_count": 33,
   "metadata": {},
   "outputs": [
    {
     "name": "stdout",
     "output_type": "stream",
     "text": [
      "Adjusted Rand Index: 0.9946295215276801\n",
      "Normalized Mutual Information: 0.986795399340468\n"
     ]
    }
   ],
   "source": [
    "from sklearn.metrics import adjusted_rand_score, normalized_mutual_info_score\n",
    "\n",
    "ari_score = adjusted_rand_score(cluster_labels.values, new_clusters)\n",
    "nmi_score = normalized_mutual_info_score( cluster_labels.values, new_clusters)\n",
    "\n",
    "print(\"Adjusted Rand Index:\", ari_score)\n",
    "print(\"Normalized Mutual Information:\", nmi_score)"
   ]
  },
  {
   "cell_type": "code",
   "execution_count": 34,
   "metadata": {},
   "outputs": [
    {
     "data": {
      "text/html": [
       "<div>\n",
       "<style scoped>\n",
       "    .dataframe tbody tr th:only-of-type {\n",
       "        vertical-align: middle;\n",
       "    }\n",
       "\n",
       "    .dataframe tbody tr th {\n",
       "        vertical-align: top;\n",
       "    }\n",
       "\n",
       "    .dataframe thead th {\n",
       "        text-align: right;\n",
       "    }\n",
       "</style>\n",
       "<table border=\"1\" class=\"dataframe\">\n",
       "  <thead>\n",
       "    <tr style=\"text-align: right;\">\n",
       "      <th></th>\n",
       "      <th>0</th>\n",
       "      <th>1</th>\n",
       "      <th>2</th>\n",
       "      <th>3</th>\n",
       "      <th>4</th>\n",
       "      <th>5</th>\n",
       "      <th>6</th>\n",
       "      <th>7</th>\n",
       "      <th>8</th>\n",
       "      <th>9</th>\n",
       "      <th>...</th>\n",
       "      <th>22</th>\n",
       "      <th>23</th>\n",
       "      <th>24</th>\n",
       "      <th>25</th>\n",
       "      <th>26</th>\n",
       "      <th>27</th>\n",
       "      <th>28</th>\n",
       "      <th>29</th>\n",
       "      <th>30</th>\n",
       "      <th>31</th>\n",
       "    </tr>\n",
       "  </thead>\n",
       "  <tbody>\n",
       "    <tr>\n",
       "      <th>0</th>\n",
       "      <td>1.155312</td>\n",
       "      <td>-0.031795</td>\n",
       "      <td>1.528037</td>\n",
       "      <td>-2.698554</td>\n",
       "      <td>-1.386769</td>\n",
       "      <td>2.211668</td>\n",
       "      <td>2.482651</td>\n",
       "      <td>-3.783729</td>\n",
       "      <td>-3.404649</td>\n",
       "      <td>-1.648523</td>\n",
       "      <td>...</td>\n",
       "      <td>3.792995</td>\n",
       "      <td>1.684288</td>\n",
       "      <td>-2.474405</td>\n",
       "      <td>0.091349</td>\n",
       "      <td>-1.146816</td>\n",
       "      <td>-3.425648</td>\n",
       "      <td>0.583444</td>\n",
       "      <td>-0.839881</td>\n",
       "      <td>-2.719033</td>\n",
       "      <td>1.026858</td>\n",
       "    </tr>\n",
       "    <tr>\n",
       "      <th>1</th>\n",
       "      <td>0.553144</td>\n",
       "      <td>0.094541</td>\n",
       "      <td>0.654804</td>\n",
       "      <td>-2.057061</td>\n",
       "      <td>-0.679160</td>\n",
       "      <td>2.187508</td>\n",
       "      <td>1.883165</td>\n",
       "      <td>-2.707069</td>\n",
       "      <td>-2.226369</td>\n",
       "      <td>-0.908328</td>\n",
       "      <td>...</td>\n",
       "      <td>3.163127</td>\n",
       "      <td>1.751484</td>\n",
       "      <td>-1.908596</td>\n",
       "      <td>0.358577</td>\n",
       "      <td>-0.661421</td>\n",
       "      <td>-2.112000</td>\n",
       "      <td>0.288593</td>\n",
       "      <td>-0.530810</td>\n",
       "      <td>-1.269308</td>\n",
       "      <td>0.613522</td>\n",
       "    </tr>\n",
       "    <tr>\n",
       "      <th>2</th>\n",
       "      <td>-0.936899</td>\n",
       "      <td>0.333013</td>\n",
       "      <td>-0.282243</td>\n",
       "      <td>-0.685293</td>\n",
       "      <td>0.412586</td>\n",
       "      <td>2.061793</td>\n",
       "      <td>1.496484</td>\n",
       "      <td>-1.307413</td>\n",
       "      <td>-2.820465</td>\n",
       "      <td>-0.567926</td>\n",
       "      <td>...</td>\n",
       "      <td>2.751837</td>\n",
       "      <td>2.818817</td>\n",
       "      <td>-0.448536</td>\n",
       "      <td>-1.266732</td>\n",
       "      <td>-2.160098</td>\n",
       "      <td>-1.487694</td>\n",
       "      <td>1.539812</td>\n",
       "      <td>0.430695</td>\n",
       "      <td>-1.447185</td>\n",
       "      <td>0.524974</td>\n",
       "    </tr>\n",
       "    <tr>\n",
       "      <th>3</th>\n",
       "      <td>0.065332</td>\n",
       "      <td>0.726761</td>\n",
       "      <td>-0.262341</td>\n",
       "      <td>0.035614</td>\n",
       "      <td>-0.546733</td>\n",
       "      <td>-1.289639</td>\n",
       "      <td>-0.095494</td>\n",
       "      <td>-0.709481</td>\n",
       "      <td>0.368345</td>\n",
       "      <td>0.346466</td>\n",
       "      <td>...</td>\n",
       "      <td>-0.273226</td>\n",
       "      <td>0.277689</td>\n",
       "      <td>-0.516919</td>\n",
       "      <td>0.694988</td>\n",
       "      <td>0.551576</td>\n",
       "      <td>-1.149204</td>\n",
       "      <td>0.202084</td>\n",
       "      <td>0.394380</td>\n",
       "      <td>0.140964</td>\n",
       "      <td>-0.111404</td>\n",
       "    </tr>\n",
       "    <tr>\n",
       "      <th>4</th>\n",
       "      <td>1.988974</td>\n",
       "      <td>-1.458711</td>\n",
       "      <td>1.289753</td>\n",
       "      <td>-2.147199</td>\n",
       "      <td>-1.257374</td>\n",
       "      <td>4.486857</td>\n",
       "      <td>1.890030</td>\n",
       "      <td>-3.226618</td>\n",
       "      <td>-3.896538</td>\n",
       "      <td>-0.831338</td>\n",
       "      <td>...</td>\n",
       "      <td>3.826290</td>\n",
       "      <td>0.698792</td>\n",
       "      <td>-1.564000</td>\n",
       "      <td>-1.074618</td>\n",
       "      <td>-1.743994</td>\n",
       "      <td>-0.952323</td>\n",
       "      <td>-0.383008</td>\n",
       "      <td>-1.285130</td>\n",
       "      <td>-1.516468</td>\n",
       "      <td>0.105591</td>\n",
       "    </tr>\n",
       "    <tr>\n",
       "      <th>...</th>\n",
       "      <td>...</td>\n",
       "      <td>...</td>\n",
       "      <td>...</td>\n",
       "      <td>...</td>\n",
       "      <td>...</td>\n",
       "      <td>...</td>\n",
       "      <td>...</td>\n",
       "      <td>...</td>\n",
       "      <td>...</td>\n",
       "      <td>...</td>\n",
       "      <td>...</td>\n",
       "      <td>...</td>\n",
       "      <td>...</td>\n",
       "      <td>...</td>\n",
       "      <td>...</td>\n",
       "      <td>...</td>\n",
       "      <td>...</td>\n",
       "      <td>...</td>\n",
       "      <td>...</td>\n",
       "      <td>...</td>\n",
       "      <td>...</td>\n",
       "    </tr>\n",
       "    <tr>\n",
       "      <th>71616</th>\n",
       "      <td>-0.136374</td>\n",
       "      <td>-0.917642</td>\n",
       "      <td>-0.386652</td>\n",
       "      <td>-0.381032</td>\n",
       "      <td>-0.361102</td>\n",
       "      <td>2.502550</td>\n",
       "      <td>0.119443</td>\n",
       "      <td>0.335776</td>\n",
       "      <td>-2.114555</td>\n",
       "      <td>0.412214</td>\n",
       "      <td>...</td>\n",
       "      <td>1.058763</td>\n",
       "      <td>1.957411</td>\n",
       "      <td>0.391197</td>\n",
       "      <td>-1.543718</td>\n",
       "      <td>-2.172600</td>\n",
       "      <td>0.996515</td>\n",
       "      <td>0.712250</td>\n",
       "      <td>0.411617</td>\n",
       "      <td>-0.749586</td>\n",
       "      <td>0.423914</td>\n",
       "    </tr>\n",
       "    <tr>\n",
       "      <th>71617</th>\n",
       "      <td>1.237782</td>\n",
       "      <td>0.080505</td>\n",
       "      <td>0.561357</td>\n",
       "      <td>-0.667034</td>\n",
       "      <td>-0.889785</td>\n",
       "      <td>1.099635</td>\n",
       "      <td>0.874647</td>\n",
       "      <td>-1.574666</td>\n",
       "      <td>-0.988550</td>\n",
       "      <td>-1.154920</td>\n",
       "      <td>...</td>\n",
       "      <td>1.730172</td>\n",
       "      <td>0.172109</td>\n",
       "      <td>-1.597862</td>\n",
       "      <td>0.037545</td>\n",
       "      <td>0.417178</td>\n",
       "      <td>-1.173566</td>\n",
       "      <td>-0.078838</td>\n",
       "      <td>-0.368482</td>\n",
       "      <td>-0.789934</td>\n",
       "      <td>-0.591175</td>\n",
       "    </tr>\n",
       "    <tr>\n",
       "      <th>71618</th>\n",
       "      <td>0.443538</td>\n",
       "      <td>-0.054263</td>\n",
       "      <td>-0.700771</td>\n",
       "      <td>-0.027542</td>\n",
       "      <td>0.650092</td>\n",
       "      <td>1.194812</td>\n",
       "      <td>0.437683</td>\n",
       "      <td>0.679292</td>\n",
       "      <td>0.828302</td>\n",
       "      <td>-0.012468</td>\n",
       "      <td>...</td>\n",
       "      <td>0.310234</td>\n",
       "      <td>1.104593</td>\n",
       "      <td>0.186141</td>\n",
       "      <td>1.057368</td>\n",
       "      <td>1.074383</td>\n",
       "      <td>1.707190</td>\n",
       "      <td>0.063840</td>\n",
       "      <td>0.087594</td>\n",
       "      <td>0.898694</td>\n",
       "      <td>-0.190682</td>\n",
       "    </tr>\n",
       "    <tr>\n",
       "      <th>71619</th>\n",
       "      <td>-2.958108</td>\n",
       "      <td>2.102149</td>\n",
       "      <td>-0.198124</td>\n",
       "      <td>2.714313</td>\n",
       "      <td>-1.520043</td>\n",
       "      <td>-4.870540</td>\n",
       "      <td>-0.298696</td>\n",
       "      <td>1.792306</td>\n",
       "      <td>3.706986</td>\n",
       "      <td>2.396325</td>\n",
       "      <td>...</td>\n",
       "      <td>-4.616985</td>\n",
       "      <td>-1.884607</td>\n",
       "      <td>1.442668</td>\n",
       "      <td>1.366400</td>\n",
       "      <td>1.783714</td>\n",
       "      <td>-1.233814</td>\n",
       "      <td>1.561004</td>\n",
       "      <td>3.877851</td>\n",
       "      <td>0.485304</td>\n",
       "      <td>-0.424936</td>\n",
       "    </tr>\n",
       "    <tr>\n",
       "      <th>71620</th>\n",
       "      <td>2.412051</td>\n",
       "      <td>-0.190920</td>\n",
       "      <td>-0.047779</td>\n",
       "      <td>-2.933289</td>\n",
       "      <td>1.828572</td>\n",
       "      <td>2.458062</td>\n",
       "      <td>1.442047</td>\n",
       "      <td>-0.450465</td>\n",
       "      <td>-0.150584</td>\n",
       "      <td>-1.003201</td>\n",
       "      <td>...</td>\n",
       "      <td>2.151797</td>\n",
       "      <td>2.104689</td>\n",
       "      <td>0.053151</td>\n",
       "      <td>2.899938</td>\n",
       "      <td>3.165649</td>\n",
       "      <td>1.967036</td>\n",
       "      <td>-1.110180</td>\n",
       "      <td>-1.366148</td>\n",
       "      <td>0.268124</td>\n",
       "      <td>-0.280406</td>\n",
       "    </tr>\n",
       "  </tbody>\n",
       "</table>\n",
       "<p>69265 rows × 32 columns</p>\n",
       "</div>"
      ],
      "text/plain": [
       "             0         1         2         3         4         5         6   \\\n",
       "0      1.155312 -0.031795  1.528037 -2.698554 -1.386769  2.211668  2.482651   \n",
       "1      0.553144  0.094541  0.654804 -2.057061 -0.679160  2.187508  1.883165   \n",
       "2     -0.936899  0.333013 -0.282243 -0.685293  0.412586  2.061793  1.496484   \n",
       "3      0.065332  0.726761 -0.262341  0.035614 -0.546733 -1.289639 -0.095494   \n",
       "4      1.988974 -1.458711  1.289753 -2.147199 -1.257374  4.486857  1.890030   \n",
       "...         ...       ...       ...       ...       ...       ...       ...   \n",
       "71616 -0.136374 -0.917642 -0.386652 -0.381032 -0.361102  2.502550  0.119443   \n",
       "71617  1.237782  0.080505  0.561357 -0.667034 -0.889785  1.099635  0.874647   \n",
       "71618  0.443538 -0.054263 -0.700771 -0.027542  0.650092  1.194812  0.437683   \n",
       "71619 -2.958108  2.102149 -0.198124  2.714313 -1.520043 -4.870540 -0.298696   \n",
       "71620  2.412051 -0.190920 -0.047779 -2.933289  1.828572  2.458062  1.442047   \n",
       "\n",
       "             7         8         9   ...        22        23        24  \\\n",
       "0     -3.783729 -3.404649 -1.648523  ...  3.792995  1.684288 -2.474405   \n",
       "1     -2.707069 -2.226369 -0.908328  ...  3.163127  1.751484 -1.908596   \n",
       "2     -1.307413 -2.820465 -0.567926  ...  2.751837  2.818817 -0.448536   \n",
       "3     -0.709481  0.368345  0.346466  ... -0.273226  0.277689 -0.516919   \n",
       "4     -3.226618 -3.896538 -0.831338  ...  3.826290  0.698792 -1.564000   \n",
       "...         ...       ...       ...  ...       ...       ...       ...   \n",
       "71616  0.335776 -2.114555  0.412214  ...  1.058763  1.957411  0.391197   \n",
       "71617 -1.574666 -0.988550 -1.154920  ...  1.730172  0.172109 -1.597862   \n",
       "71618  0.679292  0.828302 -0.012468  ...  0.310234  1.104593  0.186141   \n",
       "71619  1.792306  3.706986  2.396325  ... -4.616985 -1.884607  1.442668   \n",
       "71620 -0.450465 -0.150584 -1.003201  ...  2.151797  2.104689  0.053151   \n",
       "\n",
       "             25        26        27        28        29        30        31  \n",
       "0      0.091349 -1.146816 -3.425648  0.583444 -0.839881 -2.719033  1.026858  \n",
       "1      0.358577 -0.661421 -2.112000  0.288593 -0.530810 -1.269308  0.613522  \n",
       "2     -1.266732 -2.160098 -1.487694  1.539812  0.430695 -1.447185  0.524974  \n",
       "3      0.694988  0.551576 -1.149204  0.202084  0.394380  0.140964 -0.111404  \n",
       "4     -1.074618 -1.743994 -0.952323 -0.383008 -1.285130 -1.516468  0.105591  \n",
       "...         ...       ...       ...       ...       ...       ...       ...  \n",
       "71616 -1.543718 -2.172600  0.996515  0.712250  0.411617 -0.749586  0.423914  \n",
       "71617  0.037545  0.417178 -1.173566 -0.078838 -0.368482 -0.789934 -0.591175  \n",
       "71618  1.057368  1.074383  1.707190  0.063840  0.087594  0.898694 -0.190682  \n",
       "71619  1.366400  1.783714 -1.233814  1.561004  3.877851  0.485304 -0.424936  \n",
       "71620  2.899938  3.165649  1.967036 -1.110180 -1.366148  0.268124 -0.280406  \n",
       "\n",
       "[69265 rows x 32 columns]"
      ]
     },
     "execution_count": 34,
     "metadata": {},
     "output_type": "execute_result"
    }
   ],
   "source": [
    "pd.DataFrame(embeddings, index = cluster_labels.index)"
   ]
  },
  {
   "cell_type": "code",
   "execution_count": 35,
   "metadata": {},
   "outputs": [
    {
     "data": {
      "image/png": "[encoded data removed]",
      "text/plain": [
       "<Figure size 1000x800 with 2 Axes>"
      ]
     },
     "metadata": {},
     "output_type": "display_data"
    }
   ],
   "source": [
    "from sklearn.manifold import TSNE\n",
    "import matplotlib.pyplot as plt\n",
    "\n",
    "# Assuming 'embeddings' is a numpy array of your data embeddings\n",
    "# And 'cluster_labels' is an array of cluster labels corresponding to each point in 'embeddings'\n",
    "embeddings_2d = TSNE(n_components=2, random_state=0).fit_transform(embeddings)\n",
    "\n",
    "plt.figure(figsize=(10, 8))\n",
    "plt.scatter(embeddings_2d[:, 0], embeddings_2d[:, 1], c=new_clusters, cmap='viridis', alpha=0.5)\n",
    "plt.colorbar()  # To show the color scale\n",
    "plt.title('t-SNE plot of the embeddings colored by cluster label')\n",
    "plt.xlabel('Component 1')\n",
    "plt.ylabel('Component 2')\n",
    "plt.show()"
   ]
  },
  {
   "cell_type": "code",
   "execution_count": null,
   "metadata": {},
   "outputs": [],
   "source": [
    "from sklearn.manifold import TSNE\n",
    "import matplotlib.pyplot as plt\n",
    "\n",
    "data = pd.read_excel(\"data/synthetic_dataset.xlsx\", index_col=0)\n",
    "embeddings_2d = TSNE(n_components=2, random_state=0).fit_transform(data)\n",
    "\n",
    "plt.figure(figsize=(10, 8))\n",
    "plt.scatter(embeddings_2d[:, 0], embeddings_2d[:, 1], c=cluster_labels, cmap='viridis', alpha=0.5)\n",
    "plt.colorbar()  # To show the color scale\n",
    "plt.title('t-SNE plot of the actual data')\n",
    "plt.xlabel('Component 1')\n",
    "plt.ylabel('Component 2')\n",
    "plt.show()"
   ]
  },
  {
   "cell_type": "markdown",
   "metadata": {},
   "source": [
    "## Evaluation "
   ]
  },
  {
   "cell_type": "code",
   "execution_count": null,
   "metadata": {},
   "outputs": [],
   "source": [
    "from sklearn.linear_model import LogisticRegression"
   ]
  },
  {
   "cell_type": "code",
   "execution_count": null,
   "metadata": {},
   "outputs": [],
   "source": [
    "recipes = pd.read_excel(\"data/clustered_data.xlsx\", index_col=0)\n",
    "recipes.drop(\"cluster_labels\", axis=1, inplace=True)"
   ]
  },
  {
   "cell_type": "code",
   "execution_count": null,
   "metadata": {},
   "outputs": [],
   "source": [
    "test_set = pd.read_excel(\"data/recipe_logs.xlsx\", index_col=0)\n",
    "test_set.drop(\"id\", axis=1, inplace=True)\n",
    "users_feedback = test_set\n",
    "labels = users_feedback.is_accepted"
   ]
  },
  {
   "cell_type": "code",
   "execution_count": null,
   "metadata": {},
   "outputs": [],
   "source": [
    "users_feedback"
   ]
  },
  {
   "cell_type": "code",
   "execution_count": null,
   "metadata": {},
   "outputs": [],
   "source": [
    "recipes = recipes.loc[users_feedback.recipe_id.values]"
   ]
  },
  {
   "cell_type": "code",
   "execution_count": null,
   "metadata": {},
   "outputs": [],
   "source": [
    "from sklearn.model_selection import train_test_split"
   ]
  },
  {
   "cell_type": "code",
   "execution_count": null,
   "metadata": {},
   "outputs": [],
   "source": [
    "X_train, X_test, y_train, y_test = train_test_split(recipes, labels, test_size=0.20, random_state=42, stratify=labels)"
   ]
  },
  {
   "cell_type": "code",
   "execution_count": null,
   "metadata": {},
   "outputs": [],
   "source": [
    "simple_LR = LogisticRegression(penalty='l2', C=0.1, n_jobs=-1, max_iter=1000)\n",
    "contastive_LR = LogisticRegression(penalty='l2', C=0.1, n_jobs=-1, max_iter=1000)"
   ]
  },
  {
   "cell_type": "code",
   "execution_count": null,
   "metadata": {},
   "outputs": [],
   "source": [
    "simple_LR.fit(X_train,y_train)\n",
    "embeddings = model.encoder(torch.tensor(X_train.values).float()).detach()\n",
    "embedding_test = model.encoder(torch.tensor(X_test.values).float()).detach()\n",
    "contastive_LR.fit(embeddings, y_train)"
   ]
  },
  {
   "cell_type": "code",
   "execution_count": null,
   "metadata": {},
   "outputs": [],
   "source": [
    "simple_LR.score(X_train,y_train)"
   ]
  },
  {
   "cell_type": "code",
   "execution_count": null,
   "metadata": {},
   "outputs": [],
   "source": [
    "contastive_LR.score(embeddings,y_train)"
   ]
  },
  {
   "cell_type": "code",
   "execution_count": null,
   "metadata": {},
   "outputs": [],
   "source": [
    "simple_LR.predict(X_train)"
   ]
  },
  {
   "cell_type": "code",
   "execution_count": null,
   "metadata": {},
   "outputs": [],
   "source": [
    "contastive_LR.predict(embeddings).sum()"
   ]
  },
  {
   "cell_type": "code",
   "execution_count": null,
   "metadata": {},
   "outputs": [],
   "source": [
    "simple_LR.score(X_test,y_test)"
   ]
  },
  {
   "cell_type": "code",
   "execution_count": null,
   "metadata": {},
   "outputs": [],
   "source": [
    "contastive_LR.score(embedding_test,y_test)"
   ]
  }
 ],
 "metadata": {
  "kernelspec": {
   "display_name": "Python 3",
   "language": "python",
   "name": "python3"
  },
  "language_info": {
   "codemirror_mode": {
    "name": "ipython",
    "version": 3
   },
   "file_extension": ".py",
   "mimetype": "text/x-python",
   "name": "python",
   "nbconvert_exporter": "python",
   "pygments_lexer": "ipython3",
   "version": "3.11.5"
  },
  "orig_nbformat": 4
 },
 "nbformat": 4,
 "nbformat_minor": 2
}
