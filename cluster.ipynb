{
 "cells": [
  {
   "cell_type": "code",
   "execution_count": 1,
   "metadata": {},
   "outputs": [],
   "source": [
    "import pandas as pd\n",
    "import ast"
   ]
  },
  {
   "cell_type": "code",
   "execution_count": 2,
   "metadata": {},
   "outputs": [],
   "source": [
    "df = pd.read_excel(\"data/diyetkolik_recipes.xlsx\", index_col=0)"
   ]
  },
  {
   "cell_type": "code",
   "execution_count": 3,
   "metadata": {},
   "outputs": [],
   "source": [
    "def parse_string_as_list(string):\n",
    "    try:\n",
    "        return ast.literal_eval(string)\n",
    "    except (ValueError, SyntaxError):\n",
    "        return string"
   ]
  },
  {
   "cell_type": "code",
   "execution_count": 4,
   "metadata": {},
   "outputs": [],
   "source": [
    "df.Ingredients= df.Ingredients.apply(parse_string_as_list)"
   ]
  },
  {
   "cell_type": "code",
   "execution_count": 5,
   "metadata": {},
   "outputs": [],
   "source": [
    "ing_counts = dict()\n",
    "\n",
    "for row in df.Ingredients:\n",
    "    for ing in row:\n",
    "        if ing not in ing_counts.keys():\n",
    "            ing_counts[ing] = 1\n",
    "        else:\n",
    "            ing_counts[ing] += 1     "
   ]
  },
  {
   "cell_type": "code",
   "execution_count": 6,
   "metadata": {},
   "outputs": [],
   "source": [
    "for ing, count in list(ing_counts.items()):\n",
    "    if count < 15:\n",
    "        del ing_counts[ing]"
   ]
  },
  {
   "cell_type": "code",
   "execution_count": 7,
   "metadata": {},
   "outputs": [],
   "source": [
    "new_df = pd.DataFrame(0, index=df.index, columns=ing_counts.keys())"
   ]
  },
  {
   "cell_type": "code",
   "execution_count": 8,
   "metadata": {},
   "outputs": [],
   "source": [
    "for index, recipe in df.iterrows():\n",
    "    ingredients = recipe[\"Ingredients\"]\n",
    "    for ingredient in ingredients:\n",
    "        if ingredient in new_df.columns.values:\n",
    "            new_df.at[index,ingredient] = 1"
   ]
  },
  {
   "cell_type": "code",
   "execution_count": 9,
   "metadata": {},
   "outputs": [],
   "source": [
    "new_df = new_df[ing_counts.keys()][0:1325]"
   ]
  },
  {
   "cell_type": "code",
   "execution_count": 10,
   "metadata": {},
   "outputs": [
    {
     "name": "stdout",
     "output_type": "stream",
     "text": [
      "Partition 0: 243 clusters\n",
      "Partition 1: 42 clusters\n",
      "Partition 2: 7 clusters\n",
      "Partition 3: 4 clusters\n",
      "Partition 4: 3 clusters\n"
     ]
    },
    {
     "name": "stderr",
     "output_type": "stream",
     "text": [
      "/Users/emrekuru/Downloads/Contrastive-Learning/env/lib/python3.11/site-packages/finch/finch.py:13: UserWarning: pynndescent not installed: No module named 'pynndescent'\n",
      "  warnings.warn('pynndescent not installed: {}'.format(e))\n"
     ]
    }
   ],
   "source": [
    "from finch import FINCH\n",
    "c, num_clust, req_c = FINCH(new_df)"
   ]
  },
  {
   "cell_type": "code",
   "execution_count": 11,
   "metadata": {},
   "outputs": [
    {
     "data": {
      "text/plain": [
       "[243, 42, 7, 4, 3]"
      ]
     },
     "execution_count": 11,
     "metadata": {},
     "output_type": "execute_result"
    }
   ],
   "source": [
    "num_clust"
   ]
  },
  {
   "cell_type": "code",
   "execution_count": 12,
   "metadata": {},
   "outputs": [],
   "source": [
    "new_df[\"cluster_labels\"] = pd.DataFrame(c)[2].values"
   ]
  }
 ],
 "metadata": {
  "kernelspec": {
   "display_name": "Python 3",
   "language": "python",
   "name": "python3"
  },
  "language_info": {
   "codemirror_mode": {
    "name": "ipython",
    "version": 3
   },
   "file_extension": ".py",
   "mimetype": "text/x-python",
   "name": "python",
   "nbconvert_exporter": "python",
   "pygments_lexer": "ipython3",
   "version": "3.11.5"
  },
  "orig_nbformat": 4
 },
 "nbformat": 4,
 "nbformat_minor": 2
}
